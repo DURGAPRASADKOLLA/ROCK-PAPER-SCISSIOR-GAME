{
 "cells": [
  {
   "cell_type": "code",
   "execution_count": 18,
   "id": "46d4bbc0-1909-46db-9fa4-71166b2e2067",
   "metadata": {},
   "outputs": [
    {
     "name": "stdout",
     "output_type": "stream",
     "text": [
      "ROCK-PAPER-SCISSIOR-GAME\n"
     ]
    },
    {
     "name": "stdin",
     "output_type": "stream",
     "text": [
      "enter one among ROCK or PAPER or SCISSIOR SCISSIOR\n"
     ]
    },
    {
     "name": "stdout",
     "output_type": "stream",
     "text": [
      "Computer choose:rock\n",
      "Player choose:scissior\n",
      "you lose\n"
     ]
    }
   ],
   "source": [
    "print(\"ROCK-PAPER-SCISSIOR-GAME\");\n",
    "import random\n",
    "options=[\"rock\",\"paper\",\"scissior\"]\n",
    "Computer=random.choice(options)\n",
    "player=input(\"enter one among ROCK or PAPER or SCISSIOR\").lower()\n",
    "if(player not in options):\n",
    "    print(\"Invalid Choice! Choose among options\")\n",
    "else:\n",
    "    print(f\"Computer choose:{Computer}\")\n",
    "    print(f\"Player choose:{player}\")\n",
    "    if(Computer==\"rock\" and player==\"paper\") or (Computer==\"paper\" and player==\"scissior\") or  (Computer==\"scissior\" and player==\"rock\"):\n",
    "        print(\"you win\")\n",
    "    else:\n",
    "        print(\"you lose\")"
   ]
  },
  {
   "cell_type": "code",
   "execution_count": null,
   "id": "50ff5a76-741e-443f-97f9-46d650450fb4",
   "metadata": {},
   "outputs": [],
   "source": []
  },
  {
   "cell_type": "code",
   "execution_count": null,
   "id": "9932f622-523b-45aa-a7bd-e57449701ba9",
   "metadata": {},
   "outputs": [],
   "source": []
  }
 ],
 "metadata": {
  "kernelspec": {
   "display_name": "Python 3 (ipykernel)",
   "language": "python",
   "name": "python3"
  },
  "language_info": {
   "codemirror_mode": {
    "name": "ipython",
    "version": 3
   },
   "file_extension": ".py",
   "mimetype": "text/x-python",
   "name": "python",
   "nbconvert_exporter": "python",
   "pygments_lexer": "ipython3",
   "version": "3.11.4"
  }
 },
 "nbformat": 4,
 "nbformat_minor": 5
}
